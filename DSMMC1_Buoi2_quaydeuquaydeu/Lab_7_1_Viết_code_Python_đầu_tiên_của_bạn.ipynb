{
  "cells": [
    {
      "cell_type": "markdown",
      "metadata": {
        "id": "cgunPtFKyhqs"
      },
      "source": [
        "\n",
        "\n",
        "#Lab 7.1  Viết code Python đầu tiên của bạn\n",
        "\n",
        "Thời lượng ước tính: **25** phút\n",
        "\n",
        "## Mục tiêu\n",
        "\n",
        "Sau khi hoàn thành lab này, bạn sẽ có thể:\n",
        "\n",
        "-   Viết code cơ bản trong Python\n",
        "-   Làm việc với các loại dữ liệu khác nhau trong Python\n",
        "-   Chuyển đổi dữ liệu từ dạng này sang dạng khác\n",
        "-   Sử dụng các biểu thức và biến để thực hiện các phép toán\n"
      ]
    },
    {
      "cell_type": "markdown",
      "metadata": {
        "id": "x4JRwtUVyhq4"
      },
      "source": [
        "<h2>Mục lục</h2>\n",
        "<div class=\"alert alert-block alert-info\" style=\"margin-top: 20px\">\n",
        "    <ul>\n",
        "        <li>\n",
        "            <a href=\"#hello\">Nói \"Hello\" trong Python</a>\n",
        "            <ul>\n",
        "                <li><a href=\"version\">Bạn đang dùng Python phiên bản nào?</a></li>\n",
        "                <li><a href=\"comments\">Viết comment (chú dẫn) trong Python</a></li>\n",
        "                <li><a href=\"errors\">Các lỗi trong Python</a></li>\n",
        "                <li><a href=\"python_error\">Liệu Python có phát hiện lỗi trước khi chạy code của bạn?</a></li>\n",
        "                <li><a href=\"exercise\">Exercise: Chương trình đầu tiên của bạn</a></li>\n",
        "            </ul>\n",
        "        </li>\n",
        "        <li>\n",
        "            <a href=\"#types_objects\">Các kiểu đối tượng trong Python</a>\n",
        "            <ul>\n",
        "                <li><a href=\"int\">Số nguyên</a></li>\n",
        "                <li><a href=\"float\">Số thực</a></li>\n",
        "                <li><a href=\"convert\">Chuyển đổi đối tượng từ một kiểu này sang kiểu khác</a></li>\n",
        "                <li><a href=\"bool\">Kiểu dữ liệu Boolean</a></li>\n",
        "                <li><a href=\"exer_type\">Exercise: Các kiểu dữ liệu</a></li>\n",
        "            </ul>\n",
        "        </li>\n",
        "        <li>\n",
        "            <a href=\"#expressions\">Biểu thức và biến</a>\n",
        "            <ul>\n",
        "                <li><a href=\"exp\">Biểu thức</a></li>\n",
        "                <li><a href=\"exer_exp\">Exercise: Biểu thức</a></li>\n",
        "                <li><a href=\"var\">Biến</a></li>\n",
        "                <li><a href=\"exer_exp_var\">Exercise: Biểu thức và biến trong Python</a></li>\n",
        "            </ul>\n",
        "        </li>\n",
        "    </ul>\n",
        "    <p>\n",
        "        Thời lượng ước tính cần thiết: <strong>25 phút</strong>\n",
        "    </p>\n",
        "</div>\n",
        "\n",
        "<hr>\n"
      ]
    },
    {
      "cell_type": "markdown",
      "metadata": {
        "id": "Ojk_8WPlyhq6"
      },
      "source": [
        "<h2 id=\"hello\">Nói \"Hello\" trong Python</h2>\n"
      ]
    },
    {
      "cell_type": "markdown",
      "metadata": {
        "id": "on6f0njIyhq7"
      },
      "source": [
        "Khi học một ngôn ngữ lập trình mới, thông thường bạn nên bắt đầu với một ví dụ \"hello world\". Nói một cách đơn giản, dòng code này sẽ đảm bảo cho chúng ta biết cách in một chuỗi ở đầu ra và cách thực thi code trong các ô trong notebook."
      ]
    },
    {
      "cell_type": "markdown",
      "metadata": {
        "id": "CSpsXamfyhq9"
      },
      "source": [
        "<hr/>\n",
        "<div class=\"alert alert-success alertsuccess\" style=\"margin-top: 20px\">\n",
        "[Tip]: Để thực thi code Python trong ô dưới đây, bấm vào ô để chọn và ấn <kbd>Shift</kbd> + <kbd>Enter</kbd>.\n",
        "</div>\n",
        "<hr/>\n"
      ]
    },
    {
      "cell_type": "code",
      "execution_count": 1,
      "metadata": {
        "id": "WWebikQGyhq-"
      },
      "outputs": [
        {
          "name": "stdout",
          "output_type": "stream",
          "text": [
            "Hello, Python!\n"
          ]
        }
      ],
      "source": [
        "# Try your first Python output\n",
        "\n",
        "print('Hello, Python!')"
      ]
    },
    {
      "cell_type": "markdown",
      "metadata": {
        "id": "taUyNxKlyhrA"
      },
      "source": [
        "Sau khi thực hiện ô trên, bạn sẽ thấy Python in ra <code>Hello, Python!</code>. Chúc mừng bạn đã chạy code Python đầu tiên của mình!\n"
      ]
    },
    {
      "cell_type": "markdown",
      "metadata": {
        "id": "SBHXkNaIyhrC"
      },
      "source": [
        "<hr/>\n",
        "<div class=\"alert alert-success alertsuccess\" style=\"margin-top: 20px\">\n",
        "    [Tip:] <code>print()</code> là một hàm. Bạn truyền chuỗi <code>'Hello, Python!'</code> như một đối số để hướng dẫn Python thứ cần in.\n",
        "</div>\n",
        "<hr/>\n"
      ]
    },
    {
      "cell_type": "markdown",
      "metadata": {
        "id": "yl1yfEZryhrD"
      },
      "source": [
        "<h3 id=\"version\">Bạn đang dùng Python bản nào?</h3>\n"
      ]
    },
    {
      "cell_type": "markdown",
      "metadata": {
        "id": "XImW-xZTyhrE"
      },
      "source": [
        "<p>\n",
        "    Có hai phiên bản phổ biến của ngôn ngữ lập trình Python được sử dụng hiện nay: Python 2 và Python 3. Cộng đồng Python đã quyết định chuyển từ Python 2 sang Python 3 và nhiều thư viện phổ biến đã thông báo rằng họ sẽ không hỗ trợ Python 2 nữa.\n",
        "</p>\n",
        "<p>\n",
        "    Vì Python 3 có tương lai nên trong khóa học này, chúng tôi sẽ chỉ sử dụng nó. Làm cách nào để biết rằng notebook của chúng ta được thực thi bởi runtime Python 3? Chúng ta có thể nhìn vào góc trên bên phải của notebook này và thấy \"Python 3\".\n",
        "</p>\n",
        "<p>\n",
        "    Chúng ta cũng có thể hỏi trực tiếp Python và nhận được câu trả lời chi tiết. Hãy thử thực hiện code sau:\n",
        "</p>\n"
      ]
    },
    {
      "cell_type": "code",
      "execution_count": 3,
      "metadata": {
        "id": "2tLft3uAyhrF"
      },
      "outputs": [
        {
          "name": "stdout",
          "output_type": "stream",
          "text": [
            "3.10.14 | packaged by Anaconda, Inc. | (main, Mar 21 2024, 16:20:14) [MSC v.1916 64 bit (AMD64)]\n",
            "<module 'sys' (built-in)>\n"
          ]
        }
      ],
      "source": [
        "# Check the Python Version\n",
        "\n",
        "import sys\n",
        "print(sys.version)\n",
        "print(sys)"
      ]
    },
    {
      "cell_type": "markdown",
      "metadata": {
        "id": "QsiV40GHyhrG"
      },
      "source": [
        "<hr/>\n",
        "<div class=\"alert alert-success alertsuccess\" style=\"margin-top: 20px\">\n",
        "    [Tip:] <code>sys</code> là một mô-đun tích hợp chứa nhiều hàm hoặc tham số dành riêng cho hệ thống, bao gồm phiên bản Python đang dùng. Trước khi dùng, chúng ta phải <code>import</code> (nhập) nó rõ ràng.\n",
        "</div>\n",
        "<hr/>\n"
      ]
    },
    {
      "cell_type": "markdown",
      "metadata": {
        "id": "YwycMn9QyhrI"
      },
      "source": [
        "<h3 id=\"comments\">Viết comments trong Python</h3>\n"
      ]
    },
    {
      "cell_type": "markdown",
      "metadata": {
        "id": "AxuGrsZCyhrJ"
      },
      "source": [
        "<p>\n",
        "   Ngoài việc viết code, hãy lưu ý rằng bạn luôn nên thêm comment vào code của mình. Nó sẽ giúp người khác hiểu những gì bạn đang cố gắng hoàn thành (lý do tại sao bạn viết một đoạn code nhất định). Điều này không chỉ giúp <strong> người khác </strong> hiểu code của bạn mà còn có thể đóng vai trò như một lời nhắc nhở <strong> cho bạn </strong> khi quay lại code này sau vài tuần hoặc vài tháng.</p>\n",
        "\n",
        "<p>\n",
        "    Để viết comment trong Python, hãy sử dụng ký hiệu số <code> # </code> trước khi viết comment. Khi bạn chạy code, Python sẽ bỏ qua mọi thứ sau <code> # </code> trên một dòng nhất định.\n",
        "</p>\n"
      ]
    },
    {
      "cell_type": "code",
      "execution_count": 4,
      "metadata": {
        "id": "So1bCH3RyhrK"
      },
      "outputs": [
        {
          "name": "stdout",
          "output_type": "stream",
          "text": [
            "Hello, Python!\n"
          ]
        }
      ],
      "source": [
        "# Practice on writing comments\n",
        "\n",
        "print('Hello, Python!') # This line prints a string\n",
        "# print('Hi')"
      ]
    },
    {
      "cell_type": "markdown",
      "metadata": {
        "id": "y3u0mAuKyhrL"
      },
      "source": [
        "<p>\n",
        "    Sau khi thực thi ô ở trên, bạn sẽ nhận thấy rằng <code> This line prints a string </code> không xuất hiện ở đầu ra, vì đó là một comment (và do đó bị Python bỏ qua).\n",
        "</p>\n",
        "<p>\n",
        "    Dòng thứ hai cũng không được thực thi vì <code> print ('Hi') </code> đứng sau kí hiệu (<code> # </code>)! Vì đây không phải là một comment giải thích từ lập trình viên, mà là một dòng code thực tế, chúng ta có thể nói rằng lập trình viên đã <em> ghi chú </em> dòng code thứ hai đó.\n",
        "</p>\n"
      ]
    },
    {
      "cell_type": "markdown",
      "metadata": {
        "id": "vNus_p_KyhrM"
      },
      "source": [
        "<h3 id=\"errors\">Các lỗi trong Python</h3>\n"
      ]
    },
    {
      "cell_type": "markdown",
      "metadata": {
        "id": "jZJjpV2eyhrN"
      },
      "source": [
        "<p>Ai cũng mắc sai lầm. Đối với nhiều loại lỗi, Python sẽ cho bạn biết rằng bạn đã mắc lỗi bằng cách đưa ra một thông báo lỗi. Điều quan trọng là phải đọc kỹ các thông báo này để thực sự hiểu bạn đã mắc lỗi ở đâu và cách sửa.</p>\n",
        "<p>Ví dụ, nêu bạn viết <code>print</code> thành <code>frint</code>, Python sẽ hiển thị thông báo lỗi. Hãy thử:</p>\n"
      ]
    },
    {
      "cell_type": "code",
      "execution_count": 5,
      "metadata": {
        "id": "CyY4FCW1yhrN"
      },
      "outputs": [
        {
          "ename": "NameError",
          "evalue": "name 'frint' is not defined",
          "output_type": "error",
          "traceback": [
            "\u001b[1;31m---------------------------------------------------------------------------\u001b[0m",
            "\u001b[1;31mNameError\u001b[0m                                 Traceback (most recent call last)",
            "Cell \u001b[1;32mIn[5], line 3\u001b[0m\n\u001b[0;32m      1\u001b[0m \u001b[38;5;66;03m# Print string as error message\u001b[39;00m\n\u001b[1;32m----> 3\u001b[0m \u001b[43mfrint\u001b[49m(\u001b[38;5;124m\"\u001b[39m\u001b[38;5;124mHello, Python!\u001b[39m\u001b[38;5;124m\"\u001b[39m)\n",
            "\u001b[1;31mNameError\u001b[0m: name 'frint' is not defined"
          ]
        }
      ],
      "source": [
        "# Print string as error message\n",
        "\n",
        "frint(\"Hello, Python!\")"
      ]
    },
    {
      "cell_type": "markdown",
      "metadata": {
        "id": "J0dqRJFvyhrO"
      },
      "source": [
        "<p>Thông báo lỗi cho bạn biết:\n",
        "<ol>\n",
        "    <li>nơi xảy ra lỗi (sẽ hữu ích hơn trong các ô notebook hoặc tập lệnh lớn hơn), và</li>\n",
        "    <li>đó là loại lỗi nào (NameError)</li>\n",
        "</ol>\n",
        "<p>Ở đây, Python cố gắng chạy hàm <code>frint</code>, nhưng không thể xác định <code>frint</code> là gì vì nó không phải hàm tích hợp hoặc trước đó chúng ta cũng không xác đinh.</p>\n"
      ]
    },
    {
      "cell_type": "markdown",
      "metadata": {
        "id": "8aQS_0kKyhrO"
      },
      "source": [
        "<p>\n",
        "    Bạn sẽ nhận thấy rằng nếu chúng ta mắc một loại lỗi khác do quên đóng chuỗi, sẽ gặp một lỗi khác (ví dụ: <code>SyntaxError</code>). Hãy thử dưới đây :\n",
        "</p>\n"
      ]
    },
    {
      "cell_type": "code",
      "execution_count": 6,
      "metadata": {
        "id": "Fd9a1a3TyhrP"
      },
      "outputs": [
        {
          "ename": "SyntaxError",
          "evalue": "unterminated string literal (detected at line 3) (4082715811.py, line 3)",
          "output_type": "error",
          "traceback": [
            "\u001b[1;36m  Cell \u001b[1;32mIn[6], line 3\u001b[1;36m\u001b[0m\n\u001b[1;33m    print(\"Hello, Python!)\u001b[0m\n\u001b[1;37m          ^\u001b[0m\n\u001b[1;31mSyntaxError\u001b[0m\u001b[1;31m:\u001b[0m unterminated string literal (detected at line 3)\n"
          ]
        }
      ],
      "source": [
        "# Try to see build in error message\n",
        "\n",
        "print(\"Hello, Python!)"
      ]
    },
    {
      "cell_type": "markdown",
      "metadata": {
        "id": "byHtLxudyhrP"
      },
      "source": [
        "<h3 id=\"python_error\">Python có phát hiện lỗi trước khi bạn chạy code của mình không?</h3>\n"
      ]
    },
    {
      "cell_type": "markdown",
      "metadata": {
        "id": "N419lDFCyhrP"
      },
      "source": [
        "Python được coi là một <em> ngôn ngữ thông dịch </em>. Các ngôn ngữ biên dịch sẽ kiểm tra toàn bộ chương trình của bạn tại thời điểm biên dịch và có thể cảnh báo bạn về toàn bộ lớp lỗi trước khi thực thi. Ngược lại, Python diễn giải từng dòng tập lệnh của bạn khi nó thực thi. Python sẽ ngừng thực thi toàn bộ chương trình khi nó gặp lỗi (trừ khi lỗi được lập trình viên dự kiến và xử lý, một chủ đề nâng cao hơn mà chúng ta sẽ đề cập sau trong khóa học này).\n"
      ]
    },
    {
      "cell_type": "markdown",
      "metadata": {
        "id": "S9PYDWGkyhrQ"
      },
      "source": [
        "Hãy thử chạy đoạn code trong ô bên dưới và xem điều gì sẽ xảy ra:\n"
      ]
    },
    {
      "cell_type": "code",
      "execution_count": 7,
      "metadata": {
        "id": "JTBBDLWFyhrQ"
      },
      "outputs": [
        {
          "name": "stdout",
          "output_type": "stream",
          "text": [
            "This will be printed\n"
          ]
        },
        {
          "ename": "NameError",
          "evalue": "name 'frint' is not defined",
          "output_type": "error",
          "traceback": [
            "\u001b[1;31m---------------------------------------------------------------------------\u001b[0m",
            "\u001b[1;31mNameError\u001b[0m                                 Traceback (most recent call last)",
            "Cell \u001b[1;32mIn[7], line 4\u001b[0m\n\u001b[0;32m      1\u001b[0m \u001b[38;5;66;03m# Print string and error to see the running order\u001b[39;00m\n\u001b[0;32m      3\u001b[0m \u001b[38;5;28mprint\u001b[39m(\u001b[38;5;124m\"\u001b[39m\u001b[38;5;124mThis will be printed\u001b[39m\u001b[38;5;124m\"\u001b[39m)\n\u001b[1;32m----> 4\u001b[0m \u001b[43mfrint\u001b[49m(\u001b[38;5;124m\"\u001b[39m\u001b[38;5;124mThis will cause an error\u001b[39m\u001b[38;5;124m\"\u001b[39m)\n\u001b[0;32m      5\u001b[0m \u001b[38;5;28mprint\u001b[39m(\u001b[38;5;124m\"\u001b[39m\u001b[38;5;124mThis will NOT be printed\u001b[39m\u001b[38;5;124m\"\u001b[39m)\n",
            "\u001b[1;31mNameError\u001b[0m: name 'frint' is not defined"
          ]
        }
      ],
      "source": [
        "# Print string and error to see the running order\n",
        "\n",
        "print(\"This will be printed\")\n",
        "frint(\"This will cause an error\")\n",
        "print(\"This will NOT be printed\")"
      ]
    },
    {
      "cell_type": "markdown",
      "metadata": {
        "id": "vKyfGIhPyhrQ"
      },
      "source": [
        "<h3 id=\"exercise\">Exercise: Chương trình đầu tiên của bạn</h3>\n"
      ]
    },
    {
      "cell_type": "markdown",
      "metadata": {
        "id": "TTQtU7MJyhrR"
      },
      "source": [
        "<p>Các thế hệ lập trình viên bắt đầu sự nghiệp lập trình đơn giản bằng việc in ra\"Hello, world!\". Bạn hãy học tập họ. </p>\n",
        "<p>Trong ô code dưới đây, hãy dùng hàm <code>print()</code> để in ra đoạn sau: <code>Hello, world!</code></p>\n"
      ]
    },
    {
      "cell_type": "code",
      "execution_count": 8,
      "metadata": {
        "id": "S9UyVP4EyhrR"
      },
      "outputs": [
        {
          "name": "stdout",
          "output_type": "stream",
          "text": [
            "Hello, world!\n"
          ]
        }
      ],
      "source": [
        "# Viết code của bạn ở dưới. Đừng quên ấn Shift+Enter để chạy ô\n",
        "print('Hello, world!')"
      ]
    },
    {
      "cell_type": "markdown",
      "metadata": {
        "id": "2cEN5XKQyhrR"
      },
      "source": [
        "<details><summary>Bấm vào đây để xem đáp án</summary>\n",
        "\n",
        "```python\n",
        "print(\"Hello, world!\")\n",
        "\n",
        "```\n",
        "\n",
        "</details>\n"
      ]
    },
    {
      "cell_type": "markdown",
      "metadata": {
        "id": "DBtm80yAyhrS"
      },
      "source": [
        "<p>Giờ hãy tăng cường code của bạn với một comment. Trong ô code dưới đây, hãy in ra cụm: <code>Hello, world!</code> và chú thích với cụm <code>Print the traditional hello world</code> tất cả trong một dòng code.</p>\n"
      ]
    },
    {
      "cell_type": "code",
      "execution_count": 9,
      "metadata": {
        "id": "Q8Az6BUlyhrS"
      },
      "outputs": [
        {
          "name": "stdout",
          "output_type": "stream",
          "text": [
            "Hello, world!\n"
          ]
        }
      ],
      "source": [
        "# Viết code của bạn ở dưới. Đừng quên ấn Shift+Enter để chạy ô\n",
        "print('Hello, world!') # Print the traditional hello world"
      ]
    },
    {
      "cell_type": "markdown",
      "metadata": {
        "id": "c5QNL_UiyhrS"
      },
      "source": [
        "<details><summary>Bấm vào đây để xem đáp án</summary>\n",
        "\n",
        "```python\n",
        "print(\"Hello, world!\") # Print the traditional hello world\n",
        "\n",
        "```\n",
        "\n",
        "</details>\n"
      ]
    },
    {
      "cell_type": "markdown",
      "metadata": {
        "id": "2YOjp-8FyhrT"
      },
      "source": [
        "<hr>\n"
      ]
    },
    {
      "cell_type": "markdown",
      "metadata": {
        "id": "LqHYkBnlyhrT"
      },
      "source": [
        "<h2 id=\"types_objects\" align=\"center\">Các kiểu đối tượng trong Python</h2>\n"
      ]
    },
    {
      "cell_type": "markdown",
      "metadata": {
        "id": "Sg-k_6vfyhrT"
      },
      "source": [
        "<p>Python là một ngôn ngữ <b>hướng đối tượng</b>. Có nhiều kiểu đối tượng trong Python. Hãy bắt đầu với những kiểu phổ biến nhất: <i>chuỗi (string)</i>, <i>số nguyên (integer)</i> và <i>số thực (float)</i>. Bất cứ khi nào bạn viết từ (văn bản) trong Python, tức là bạn đang dùng <i>chuỗi kí tự</i> (gọi ngắn gọn là chuỗi). Ngược lại, các kiểu số phổ biến nhất là <i>số nguyên</i> (ví dụ: -1, 0, 100) và <i>số thực</i>, biểu thị các số thực (ví dụ: 3.14, -42.0).</p>\n"
      ]
    },
    {
      "cell_type": "markdown",
      "metadata": {
        "id": "1szjR4MNyhrU"
      },
      "source": [
        "<a align=\"center\">\n",
        "    <img src=\"https://cf-courses-data.s3.us.cloud-object-storage.appdomain.cloud/IBMDeveloperSkillsNetwork-PY0101EN-SkillsNetwork/labs/Module%201/images/TypesObjects.png\" width=\"600\">\n",
        "</a>\n"
      ]
    },
    {
      "cell_type": "markdown",
      "metadata": {
        "id": "uWsL0H4IyhrU"
      },
      "source": [
        "<p>Các ô code sau đây chứa một số ví dụ.</p>\n"
      ]
    },
    {
      "cell_type": "code",
      "execution_count": null,
      "metadata": {
        "id": "E5oLNbAJyhrU"
      },
      "outputs": [],
      "source": [
        "# Integer\n",
        "\n",
        "11"
      ]
    },
    {
      "cell_type": "code",
      "execution_count": null,
      "metadata": {
        "id": "gWM0FbnryhrV"
      },
      "outputs": [],
      "source": [
        "# Float\n",
        "\n",
        "2.14"
      ]
    },
    {
      "cell_type": "code",
      "execution_count": null,
      "metadata": {
        "id": "r4edpNVDyhrV"
      },
      "outputs": [],
      "source": [
        "# String\n",
        "\n",
        "\"Hello, Python 101!\""
      ]
    },
    {
      "cell_type": "markdown",
      "metadata": {
        "id": "DIkuficryhrV"
      },
      "source": [
        "<p>Bạn có thể yêu cầu Python cho bạn biết loại biểu thức bằng cách sử dụng hàm <code>type()</code> tích hợp sẵn. Bạn sẽ nhận thấy rằng Python đề cập đến các số nguyên dưới dạng <code>int</code>, số thực ở dạng <code>float</code>, và chuỗi kí tự ở dạng <code>str</code>.</p>\n"
      ]
    },
    {
      "cell_type": "code",
      "execution_count": null,
      "metadata": {
        "id": "XHLiOWalyhrW"
      },
      "outputs": [],
      "source": [
        "# Type of 12\n",
        "\n",
        "type(12)"
      ]
    },
    {
      "cell_type": "code",
      "execution_count": null,
      "metadata": {
        "id": "fYwE1Hv-yhrW"
      },
      "outputs": [],
      "source": [
        "# Type of 2.14\n",
        "\n",
        "type(2.14)"
      ]
    },
    {
      "cell_type": "code",
      "execution_count": null,
      "metadata": {
        "id": "1Wk6noe5yhrW"
      },
      "outputs": [],
      "source": [
        "# Type of \"Hello, Python 101!\"\n",
        "\n",
        "type(\"Hello, Python 101!\")"
      ]
    },
    {
      "cell_type": "markdown",
      "metadata": {
        "id": "eSU-SljqyhrX"
      },
      "source": [
        "<p>Trong ô code bên dưới, hãy dùng hàm <code>type()</code> để xem kiểu đối tượng của <code>12.0</code>.\n"
      ]
    },
    {
      "cell_type": "code",
      "execution_count": 10,
      "metadata": {
        "id": "nSTRqdUGyhrX"
      },
      "outputs": [
        {
          "data": {
            "text/plain": [
              "float"
            ]
          },
          "execution_count": 10,
          "metadata": {},
          "output_type": "execute_result"
        }
      ],
      "source": [
        "# Viết code của bạn ở dưới. Đừng quên ấn Shift+Enter để chạy ô\n",
        "type(12.0)"
      ]
    },
    {
      "cell_type": "markdown",
      "metadata": {
        "id": "5TRLipfgyhrX"
      },
      "source": [
        "<details><summary>Bấm vào đây để xem đáp án</summary>\n",
        "\n",
        "```python\n",
        "type(12.0)\n",
        "\n",
        "```\n",
        "\n",
        "</details>\n"
      ]
    },
    {
      "cell_type": "markdown",
      "metadata": {
        "id": "Ohgh-mg4yhrY"
      },
      "source": [
        "<h3 id=\"int\">Số nguyên</h3>\n"
      ]
    },
    {
      "cell_type": "markdown",
      "metadata": {
        "id": "KCwnSN4vyhrY"
      },
      "source": [
        "<p>Dưới đây là một số ví dụ về số nguyên. Số nguyên có thể là số nguyên âm hoặc nguyên dương:</p>\n"
      ]
    },
    {
      "cell_type": "markdown",
      "metadata": {
        "id": "oyHe22giyhrY"
      },
      "source": [
        "<a align=\"center\">\n",
        "    <img src=\"https://cf-courses-data.s3.us.cloud-object-storage.appdomain.cloud/IBMDeveloperSkillsNetwork-PY0101EN-SkillsNetwork/labs/Module%201/images/TypesInt.png\" width=\"600\">\n",
        "</a>\n"
      ]
    },
    {
      "cell_type": "markdown",
      "metadata": {
        "id": "1zXfiI17yhrY"
      },
      "source": [
        "<p>Bạn có thể xác thực bằng cách dùng hàm <code>type()</code>:\n"
      ]
    },
    {
      "cell_type": "code",
      "execution_count": null,
      "metadata": {
        "id": "jb-9RaedyhrZ"
      },
      "outputs": [],
      "source": [
        "# Print the type of -1\n",
        "\n",
        "type(-1)"
      ]
    },
    {
      "cell_type": "code",
      "execution_count": null,
      "metadata": {
        "id": "vpbJF4YoyhrZ"
      },
      "outputs": [],
      "source": [
        "# Print the type of 4\n",
        "\n",
        "type(4)"
      ]
    },
    {
      "cell_type": "code",
      "execution_count": 11,
      "metadata": {
        "id": "Wy4imAeOyhrZ"
      },
      "outputs": [
        {
          "data": {
            "text/plain": [
              "int"
            ]
          },
          "execution_count": 11,
          "metadata": {},
          "output_type": "execute_result"
        }
      ],
      "source": [
        "# Print the type of 0\n",
        "\n",
        "type(0)"
      ]
    },
    {
      "cell_type": "markdown",
      "metadata": {
        "id": "niHA_vOtyhra"
      },
      "source": [
        "<h3 id=\"float\">Số thực</h3>\n"
      ]
    },
    {
      "cell_type": "markdown",
      "metadata": {
        "id": "EiTyjvAvyhra"
      },
      "source": [
        "<p>Số thực là một tập hợp các số nguyên nhưng cũng bao gồm \"các số thập phân\". Có một số hạn chế khi nói đến máy biểu diễn số thực, nhưng số dấu phẩy động là điển hình trong hầu hết các trường hợp. Bạn có thể tìm hiểu thêm về các chi tiết cụ thể của số thực cho môi trường runtime của mình bằng cách kiểm tra giá trị của <code> sys.float_info </code>. Điều này cũng sẽ cho bạn biết số lớn nhất và số nhỏ nhất có thể được chúng biểu thị.</p>\n",
        "\n",
        "<p>Một lần nữa, các bạn có thể kiểm tra một số ví dụ với hàm <code>type()</code>:\n"
      ]
    },
    {
      "cell_type": "code",
      "execution_count": 12,
      "metadata": {
        "id": "apIabPGlyhra"
      },
      "outputs": [
        {
          "name": "stdout",
          "output_type": "stream",
          "text": [
            "sys.float_info(max=1.7976931348623157e+308, max_exp=1024, max_10_exp=308, min=2.2250738585072014e-308, min_exp=-1021, min_10_exp=-307, dig=15, mant_dig=53, epsilon=2.220446049250313e-16, radix=2, rounds=1)\n"
          ]
        }
      ],
      "source": [
        "# Print the type of 1.0\n",
        "\n",
        "type(1.0) # Notice that 1 is an int, and 1.0 is a float\n",
        "print(sys.float_info)"
      ]
    },
    {
      "cell_type": "code",
      "execution_count": null,
      "metadata": {
        "id": "aLfK0wKzyhrb"
      },
      "outputs": [],
      "source": [
        "# Print the type of 0.5\n",
        "\n",
        "type(0.5)"
      ]
    },
    {
      "cell_type": "code",
      "execution_count": null,
      "metadata": {
        "id": "50YodmLzyhrb"
      },
      "outputs": [],
      "source": [
        "# Print the type of 0.56\n",
        "\n",
        "type(0.56)"
      ]
    },
    {
      "cell_type": "code",
      "execution_count": 13,
      "metadata": {
        "id": "STKtEkXYyhrb"
      },
      "outputs": [
        {
          "data": {
            "text/plain": [
              "sys.float_info(max=1.7976931348623157e+308, max_exp=1024, max_10_exp=308, min=2.2250738585072014e-308, min_exp=-1021, min_10_exp=-307, dig=15, mant_dig=53, epsilon=2.220446049250313e-16, radix=2, rounds=1)"
            ]
          },
          "execution_count": 13,
          "metadata": {},
          "output_type": "execute_result"
        }
      ],
      "source": [
        "# System settings about float type\n",
        "\n",
        "sys.float_info"
      ]
    },
    {
      "cell_type": "markdown",
      "metadata": {
        "id": "0u4CoPT8yhrc"
      },
      "source": [
        "<h3 id=\"convert\">Chuyển đổi một đối tượng từ kiểu này sang kiểu khác</h3>\n"
      ]
    },
    {
      "cell_type": "markdown",
      "metadata": {
        "id": "dJS_Poewyhrc"
      },
      "source": [
        "<p>Bạn có thể đổi kiểu đối tượng trong Python (ép kiểu). Ví dụ, bạn có thể chuyển một <i>số nguyên</i> thành một <i>số thực</i> (ví dụ: 2 thành 2.0).</p>\n",
        "<p>Hãy thử:</p>\n"
      ]
    },
    {
      "cell_type": "code",
      "execution_count": null,
      "metadata": {
        "id": "7YOyWCP9yhrc"
      },
      "outputs": [],
      "source": [
        "# Verify that this is an integer\n",
        "\n",
        "type(2)"
      ]
    },
    {
      "cell_type": "markdown",
      "metadata": {
        "id": "UIz7hRa0yhrd"
      },
      "source": [
        "<h4>Chuyển số nguyên thành số thực</h4>\n",
        "<p>Hãy chuyển số nguyên 2 thành số thực:</p>\n"
      ]
    },
    {
      "cell_type": "code",
      "execution_count": null,
      "metadata": {
        "id": "O6HFev-Fyhrd"
      },
      "outputs": [],
      "source": [
        "# Convert 2 to a float\n",
        "\n",
        "float(2)"
      ]
    },
    {
      "cell_type": "code",
      "execution_count": null,
      "metadata": {
        "id": "OjIaHBr7yhre"
      },
      "outputs": [],
      "source": [
        "# Convert integer 2 to a float and check its type\n",
        "\n",
        "type(float(2))"
      ]
    },
    {
      "cell_type": "markdown",
      "metadata": {
        "id": "kfELJ9neyhre"
      },
      "source": [
        "<p>Khi chuyển đổi số nguyên thành số thực, chúng ta không thực sự thay đổi giá trị. Tuy nhiên, nếu chuyển từ số thực thành số nguyên, chúng ta có thể mất một số thông tin. Chẳng hạn, nếu chuyển từ số thực 1.1 thành số nguyên 1 thì sẽ mất thông tin phần thập phân (0.1):</p>\n"
      ]
    },
    {
      "cell_type": "code",
      "execution_count": 14,
      "metadata": {
        "id": "NquGc7lryhre"
      },
      "outputs": [
        {
          "data": {
            "text/plain": [
              "1"
            ]
          },
          "execution_count": 14,
          "metadata": {},
          "output_type": "execute_result"
        }
      ],
      "source": [
        "# Casting 1.1 to integer will result in loss of information\n",
        "\n",
        "int(1.1)"
      ]
    },
    {
      "cell_type": "markdown",
      "metadata": {
        "id": "YgxgeJKByhrf"
      },
      "source": [
        "<h4>Chuyển từ chuỗi thành số nguyên hoặc số thực</h4>\n"
      ]
    },
    {
      "cell_type": "markdown",
      "metadata": {
        "id": "D-WkRfVvyhrf"
      },
      "source": [
        "<p>Đôi lúc, bạn sẽ có một chuỗi chứa một số trong đó. Trong trường hợp này, chúng ta có thể ép chuỗi đó thể hiện một số thành một số nguyên sử dụng <code>int()</code>:</p>\n"
      ]
    },
    {
      "cell_type": "code",
      "execution_count": null,
      "metadata": {
        "id": "jIv73fRvyhrf"
      },
      "outputs": [],
      "source": [
        "# Convert a string into an integer\n",
        "\n",
        "int('1')"
      ]
    },
    {
      "cell_type": "markdown",
      "metadata": {
        "id": "o_7OsMhIyhrf"
      },
      "source": [
        "<p>Nhưng nếu bạn cố gắng làm như vậy với một chuỗi không cho kết quả khớp hoàn hảo cho một số, bạn sẽ gặp lỗi. Hãy thử những cách sau:</p>\n"
      ]
    },
    {
      "cell_type": "code",
      "execution_count": 15,
      "metadata": {
        "id": "cuGTbsUiyhrg"
      },
      "outputs": [
        {
          "ename": "ValueError",
          "evalue": "invalid literal for int() with base 10: '1 or 2 people'",
          "output_type": "error",
          "traceback": [
            "\u001b[1;31m---------------------------------------------------------------------------\u001b[0m",
            "\u001b[1;31mValueError\u001b[0m                                Traceback (most recent call last)",
            "Cell \u001b[1;32mIn[15], line 3\u001b[0m\n\u001b[0;32m      1\u001b[0m \u001b[38;5;66;03m# Convert a string into an integer with error\u001b[39;00m\n\u001b[1;32m----> 3\u001b[0m \u001b[38;5;28;43mint\u001b[39;49m\u001b[43m(\u001b[49m\u001b[38;5;124;43m'\u001b[39;49m\u001b[38;5;124;43m1 or 2 people\u001b[39;49m\u001b[38;5;124;43m'\u001b[39;49m\u001b[43m)\u001b[49m\n",
            "\u001b[1;31mValueError\u001b[0m: invalid literal for int() with base 10: '1 or 2 people'"
          ]
        }
      ],
      "source": [
        "# Convert a string into an integer with error\n",
        "\n",
        "int('1 or 2 people')"
      ]
    },
    {
      "cell_type": "markdown",
      "metadata": {
        "id": "yoNYRi6tyhrg"
      },
      "source": [
        "<p>Bạn cũng có thể chuyển chuỗi có chứa số dấu phẩy động thành đối tượng <i>float</i> :</p>\n"
      ]
    },
    {
      "cell_type": "code",
      "execution_count": null,
      "metadata": {
        "id": "kuSUfqN-yhrg"
      },
      "outputs": [],
      "source": [
        "# Convert the string \"1.2\" into a float\n",
        "\n",
        "float('1.2')"
      ]
    },
    {
      "cell_type": "markdown",
      "metadata": {
        "id": "DwWVtIdNyhrh"
      },
      "source": [
        "<hr/>\n",
        "<div class=\"alert alert-success alertsuccess\" style=\"margin-top: 20px\">\n",
        "    [Tip:] Lưu ý rằng các chuỗi có thể được biểu diễn bằng dấu nháy đơn (<code> '1.2' </code>) hoặc dấu nháy kép (<code> \"1.2\" </code>), nhưng bạn không thể kết hợp cả hai (ví dụ: <code> \"1.2'</code>).\n",
        "</div>\n",
        "<hr/>\n"
      ]
    },
    {
      "cell_type": "markdown",
      "metadata": {
        "id": "jW7n37Ihyhrh"
      },
      "source": [
        "<h4>Chuyển số thành chuỗi</h4>\n"
      ]
    },
    {
      "cell_type": "markdown",
      "metadata": {
        "id": "M7DiUhj8yhrh"
      },
      "source": [
        "<p>Nếu chúng ta có thể chuyển đổi chuỗi thành số, thì việc chúng ta có thể chuyển đổi số thành chuỗi là điều đương nhiên phải không?</p>\n"
      ]
    },
    {
      "cell_type": "code",
      "execution_count": null,
      "metadata": {
        "id": "u-aTkkbPyhrh"
      },
      "outputs": [],
      "source": [
        "# Convert an integer to a string\n",
        "\n",
        "str(1)"
      ]
    },
    {
      "cell_type": "markdown",
      "metadata": {
        "id": "wSJZHHYVyhri"
      },
      "source": [
        "<p>Và không có lý do gì chúng ta không thể chuyển số thực thành chuỗi:</p>\n"
      ]
    },
    {
      "cell_type": "code",
      "execution_count": null,
      "metadata": {
        "id": "MDwLfCBCyhri"
      },
      "outputs": [],
      "source": [
        "# Convert a float to a string\n",
        "\n",
        "str(1.2)"
      ]
    },
    {
      "cell_type": "markdown",
      "metadata": {
        "id": "bjv0-Q3hyhri"
      },
      "source": [
        "<h3 id=\"bool\">Kiểu dữ liệu Boolean</h3>\n"
      ]
    },
    {
      "cell_type": "markdown",
      "metadata": {
        "id": "r6GvjsMgyhrj"
      },
      "source": [
        "<p><i>Boolean</i> là một kiểu quan trọng khác trong Python. Đối tượng của kiểu  <i>Boolean</i> có thể lấy một trong 2 giá trị: <code>True</code> hoặc <code>False</code>:</p>\n"
      ]
    },
    {
      "cell_type": "code",
      "execution_count": null,
      "metadata": {
        "id": "rEdgdH21yhrj"
      },
      "outputs": [],
      "source": [
        "# Value true\n",
        "\n",
        "True"
      ]
    },
    {
      "cell_type": "markdown",
      "metadata": {
        "id": "xozaOi3Byhrj"
      },
      "source": [
        "<p>Lưu ý rằng gái trị <code>True</code> có chữ \"T\" viết hoa. <code>False</code> cũng vậy (bạn phải viết hoa chữ \"F\").</p>\n"
      ]
    },
    {
      "cell_type": "code",
      "execution_count": null,
      "metadata": {
        "id": "Bz_i9R2vyhrj"
      },
      "outputs": [],
      "source": [
        "# Value false\n",
        "\n",
        "False"
      ]
    },
    {
      "cell_type": "markdown",
      "metadata": {
        "id": "slphsMgJyhrk"
      },
      "source": [
        "<p>Khi bạn yêu cầu Python hiển thị kiểu đối tượng Boolean, nó sẽ hiển thị <code>bool</code> thay vì <i>boolean</i>:</p>\n"
      ]
    },
    {
      "cell_type": "code",
      "execution_count": null,
      "metadata": {
        "id": "O600zfSfyhrk"
      },
      "outputs": [],
      "source": [
        "# Type of True\n",
        "\n",
        "type(True)"
      ]
    },
    {
      "cell_type": "code",
      "execution_count": null,
      "metadata": {
        "id": "i2CRB4GNyhrk"
      },
      "outputs": [],
      "source": [
        "# Type of False\n",
        "\n",
        "type(False)"
      ]
    },
    {
      "cell_type": "markdown",
      "metadata": {
        "id": "Pts5w3qoyhrl"
      },
      "source": [
        "<p>Chúng ta có thể ép kiểu các đối tượng boolean thành các kiểu dữ liệu khác. Nếu chúng ta ép kiểu boolean có giá trị <code>True</code> thành một số nguyên hoặc số thực, chúng ta sẽ nhận được 1. Nếu chúng ta ép kiểu boolean có giá trị <code>False</code> thành một số nguyên hoặc số thực, chúng ta sẽ nhận được 0. Tương tự, nếu ta chuyển 1 thành Boolean, bạn sẽ nhận được <code>True</code>. Và nếu chúng ta chuyển 0 thành Boolean sẽ nhận được <code>False</code>. Hãy thử:</p>\n"
      ]
    },
    {
      "cell_type": "code",
      "execution_count": null,
      "metadata": {
        "id": "zKa23dfyyhrl"
      },
      "outputs": [],
      "source": [
        "# Convert True to int\n",
        "\n",
        "int(True)"
      ]
    },
    {
      "cell_type": "code",
      "execution_count": 18,
      "metadata": {
        "id": "3b34KdqSyhrm"
      },
      "outputs": [
        {
          "name": "stdout",
          "output_type": "stream",
          "text": [
            "True\n",
            "True\n",
            "True\n",
            "True\n",
            "True\n"
          ]
        }
      ],
      "source": [
        "# Convert 1 to boolean\n",
        "\n",
        "print(bool(1))\n",
        "print(bool(2))\n",
        "print(bool(3.5))\n",
        "print(bool(0.2))\n",
        "print(bool(-0.5))"
      ]
    },
    {
      "cell_type": "code",
      "execution_count": null,
      "metadata": {
        "id": "QvdepaT_yhrm"
      },
      "outputs": [],
      "source": [
        "# Convert 0 to boolean\n",
        "\n",
        "bool(0)"
      ]
    },
    {
      "cell_type": "code",
      "execution_count": null,
      "metadata": {
        "id": "jQyz8A2Xyhrm"
      },
      "outputs": [],
      "source": [
        "# Convert True to float\n",
        "\n",
        "float(True)"
      ]
    },
    {
      "cell_type": "markdown",
      "metadata": {
        "id": "XsJbnrE6yhrn"
      },
      "source": [
        "<h3 id=\"exer_type\">Exercise: Các kiểu</h3>\n"
      ]
    },
    {
      "cell_type": "markdown",
      "metadata": {
        "id": "Ky-hW--byhrn"
      },
      "source": [
        "<p>Kiểu dữ liệu của kết quả: <code>6 / 2</code> là?</p>\n"
      ]
    },
    {
      "cell_type": "code",
      "execution_count": 19,
      "metadata": {
        "id": "rYQynRe6yhrn"
      },
      "outputs": [
        {
          "data": {
            "text/plain": [
              "float"
            ]
          },
          "execution_count": 19,
          "metadata": {},
          "output_type": "execute_result"
        }
      ],
      "source": [
        "# Write your code below. Don't forget to press Shift+Enter to execute the cell\n",
        "type(6/12)"
      ]
    },
    {
      "cell_type": "markdown",
      "metadata": {
        "id": "wPuL9A4ayhro"
      },
      "source": [
        "<details><summary>Bấm vào đây để xem đáp án</summary>\n",
        "\n",
        "```python\n",
        "type(6/2) # float\n",
        "\n",
        "```\n",
        "\n",
        "</details>\n"
      ]
    },
    {
      "cell_type": "markdown",
      "metadata": {
        "id": "68MkRBU9yhro"
      },
      "source": [
        "<p>Kiểu của kết quả: <code>6 // 2</code> là? (Chú ý dấu <code>//</code>.)</p>\n"
      ]
    },
    {
      "cell_type": "code",
      "execution_count": 20,
      "metadata": {
        "id": "6BhPase-yhro"
      },
      "outputs": [
        {
          "data": {
            "text/plain": [
              "int"
            ]
          },
          "execution_count": 20,
          "metadata": {},
          "output_type": "execute_result"
        }
      ],
      "source": [
        "# Write your code below. Don't forget to press Shift+Enter to execute the cell\n",
        "type(6//12)"
      ]
    },
    {
      "cell_type": "markdown",
      "metadata": {
        "id": "yxmir6tyyhro"
      },
      "source": [
        "<details><summary>Bấm vào đây để xem đáp án</summary>\n",
        "\n",
        "```python\n",
        "type(6//2) # int, as the double slashes stand for integer division\n",
        "\n",
        "```\n",
        "\n",
        "</details>\n"
      ]
    },
    {
      "cell_type": "markdown",
      "metadata": {
        "id": "ZfUnd7muyhrp"
      },
      "source": [
        "<hr>\n"
      ]
    },
    {
      "cell_type": "markdown",
      "metadata": {
        "id": "pvsRS6jIyhrp"
      },
      "source": [
        "<h2 id=\"expressions\">Biểu thức và biến</h2>\n"
      ]
    },
    {
      "cell_type": "markdown",
      "metadata": {
        "id": "O6W6Apmryhrp"
      },
      "source": [
        "<h3 id=\"exp\">Biểu thức</h3>\n"
      ]
    },
    {
      "cell_type": "markdown",
      "metadata": {
        "id": "1DZYnTHfyhrq"
      },
      "source": [
        "<p>Các biểu thức trong Python có thể bao gồm các phép toán giữa các kiểu tương thích (ví dụ: số nguyên và số thực). Chẳng hạn, các phép toán số học cơ bản như cộng nhiều số:</p>\n"
      ]
    },
    {
      "cell_type": "code",
      "execution_count": 21,
      "metadata": {
        "id": "6HbPRxpsyhrq"
      },
      "outputs": [
        {
          "data": {
            "text/plain": [
              "160"
            ]
          },
          "execution_count": 21,
          "metadata": {},
          "output_type": "execute_result"
        }
      ],
      "source": [
        "# Addition operation expression\n",
        "\n",
        "43 + 60 + 16 + 41"
      ]
    },
    {
      "cell_type": "markdown",
      "metadata": {
        "id": "I1ycVDzuyhrq"
      },
      "source": [
        "<p>Chúng ta có thể thực hiện các phép tính trừ bằng toán tử trừ. Trong trường hợp này, kết quả là một số âm:</p>\n"
      ]
    },
    {
      "cell_type": "code",
      "execution_count": null,
      "metadata": {
        "id": "QpXNQ8Shyhrr"
      },
      "outputs": [],
      "source": [
        "# Subtraction operation expression\n",
        "\n",
        "50 - 60"
      ]
    },
    {
      "cell_type": "markdown",
      "metadata": {
        "id": "X7Rlvrfnyhrr"
      },
      "source": [
        "<p>Chúng ta có thể thực hiện phép nhân với dấu hoa thị:</p>\n"
      ]
    },
    {
      "cell_type": "code",
      "execution_count": null,
      "metadata": {
        "id": "S6xj1wmLyhrr"
      },
      "outputs": [],
      "source": [
        "# Multiplication operation expression\n",
        "\n",
        "5 * 5"
      ]
    },
    {
      "cell_type": "markdown",
      "metadata": {
        "id": "Ah5ekaJPyhrr"
      },
      "source": [
        "<p>Chúng ta có thể thực hiện phép chia với dấu gạch chéo:\n"
      ]
    },
    {
      "cell_type": "code",
      "execution_count": null,
      "metadata": {
        "id": "Je9nC3d0yhrs"
      },
      "outputs": [],
      "source": [
        "# Division operation expression\n",
        "\n",
        "25 / 5"
      ]
    },
    {
      "cell_type": "code",
      "execution_count": 22,
      "metadata": {
        "id": "EUKfBA2Xyhrs"
      },
      "outputs": [
        {
          "data": {
            "text/plain": [
              "4.166666666666667"
            ]
          },
          "execution_count": 22,
          "metadata": {},
          "output_type": "execute_result"
        }
      ],
      "source": [
        "# Division operation expression\n",
        "\n",
        "25 / 6"
      ]
    },
    {
      "cell_type": "markdown",
      "metadata": {
        "id": "ot_E2cGNyhrs"
      },
      "source": [
        "<p>Như đã thấy trong quiz trên, chúng ta có thể dùng dấu gạch chéo kép để chia số nguyên, trong đó, kết quả được làm tròn đến số nguyên gần nhất:\n"
      ]
    },
    {
      "cell_type": "code",
      "execution_count": 23,
      "metadata": {
        "id": "9zTPpxW1yhrs"
      },
      "outputs": [
        {
          "data": {
            "text/plain": [
              "5"
            ]
          },
          "execution_count": 23,
          "metadata": {},
          "output_type": "execute_result"
        }
      ],
      "source": [
        "# Integer division operation expression\n",
        "\n",
        "25 // 5"
      ]
    },
    {
      "cell_type": "code",
      "execution_count": 24,
      "metadata": {
        "id": "9XFQwx7Oyhrs"
      },
      "outputs": [
        {
          "data": {
            "text/plain": [
              "4"
            ]
          },
          "execution_count": 24,
          "metadata": {},
          "output_type": "execute_result"
        }
      ],
      "source": [
        "# Integer division operation expression\n",
        "\n",
        "25 // 6"
      ]
    },
    {
      "cell_type": "markdown",
      "metadata": {
        "id": "9hLjZYZgyhrs"
      },
      "source": [
        "<h3 id=\"exer_exp\">Exercise: Biểu thức</h3>\n"
      ]
    },
    {
      "cell_type": "markdown",
      "metadata": {
        "id": "8_HyXiScyhrs"
      },
      "source": [
        "<p> Hãy viết biểu thức tính số giờ trong 160 phút:\n"
      ]
    },
    {
      "cell_type": "code",
      "execution_count": 25,
      "metadata": {
        "id": "o7cqjZN7yhrt"
      },
      "outputs": [
        {
          "data": {
            "text/plain": [
              "2"
            ]
          },
          "execution_count": 25,
          "metadata": {},
          "output_type": "execute_result"
        }
      ],
      "source": [
        "# Write your code below. Don't forget to press Shift+Enter to execute the cell\n",
        "160//60"
      ]
    },
    {
      "cell_type": "markdown",
      "metadata": {
        "id": "_W6tMuLAyhrt"
      },
      "source": [
        "<details><summary>Bấm vào đây để xem đáp án</summary>\n",
        "\n",
        "```python\n",
        "160/60\n",
        "\n",
        "# Or\n",
        "\n",
        "160//60\n",
        "\n",
        "```\n",
        "\n",
        "</details>\n"
      ]
    },
    {
      "cell_type": "markdown",
      "metadata": {
        "id": "kH3Odm0zyhrt"
      },
      "source": [
        "<p>Python tuân theo các quy ước toán học được chấp nhận rộng rãi khi đánh giá các biểu thức toán học. Trong ví dụ sau, Python thêm 30 vào kết quả của phép nhân (tức là 120).\n"
      ]
    },
    {
      "cell_type": "code",
      "execution_count": null,
      "metadata": {
        "id": "HpjObJIkyhrt"
      },
      "outputs": [],
      "source": [
        "# Mathematical expression\n",
        "\n",
        "30 + 2 * 60"
      ]
    },
    {
      "cell_type": "markdown",
      "metadata": {
        "id": "kyzYHTU3yhrt"
      },
      "source": [
        "<p>Và theo toán học, các biểu thức đặt trong dấu ngoặc đơn được ưu tiên. Vì vậy, sẽ là 32 nhân với 60.\n"
      ]
    },
    {
      "cell_type": "code",
      "execution_count": null,
      "metadata": {
        "id": "UCSy1S7uyhrt"
      },
      "outputs": [],
      "source": [
        "# Mathematical expression\n",
        "\n",
        "(30 + 2) * 60"
      ]
    },
    {
      "cell_type": "markdown",
      "metadata": {
        "id": "6YoYVvS5yhru"
      },
      "source": [
        "<h3 id=\"var\">Biến</h3>\n"
      ]
    },
    {
      "cell_type": "markdown",
      "metadata": {
        "id": "PcdHric-yhru"
      },
      "source": [
        "<p>Cũng như hầu hết các ngôn ngữ lập trình, chúng ta có thể lưu trữ các giá trị trong <i> các biến </i>, để chúng ta có thể sử dụng chúng sau này. Ví dụ:</p>\n"
      ]
    },
    {
      "cell_type": "code",
      "execution_count": 26,
      "metadata": {
        "id": "zfvyc5Ltyhru"
      },
      "outputs": [
        {
          "data": {
            "text/plain": [
              "160"
            ]
          },
          "execution_count": 26,
          "metadata": {},
          "output_type": "execute_result"
        }
      ],
      "source": [
        "# Store value into variable\n",
        "\n",
        "x = 43 + 60 + 16 + 41\n",
        "x"
      ]
    },
    {
      "cell_type": "markdown",
      "metadata": {
        "id": "UxNYH1KZyhru"
      },
      "source": [
        "<p>Để xem giá trị của <code>x</code> trong Notebook, bạn chỉ cần đặt nó ở dòng cuối của ô:</p>\n"
      ]
    },
    {
      "cell_type": "code",
      "execution_count": null,
      "metadata": {
        "id": "AEokBmNDyhru"
      },
      "outputs": [],
      "source": [
        "# Print out the value in variable\n",
        "\n",
        "x"
      ]
    },
    {
      "cell_type": "markdown",
      "metadata": {
        "id": "9WMw3M0Fyhru"
      },
      "source": [
        "<p>Bạn cũng có thể thực hiện các phép toán với <code>x</code> và lưu kết quả vào một biến mới:</p>\n"
      ]
    },
    {
      "cell_type": "code",
      "execution_count": 27,
      "metadata": {
        "id": "PQr9jsG_yhrv"
      },
      "outputs": [
        {
          "data": {
            "text/plain": [
              "2.6666666666666665"
            ]
          },
          "execution_count": 27,
          "metadata": {},
          "output_type": "execute_result"
        }
      ],
      "source": [
        "# Use another variable to store the result of the operation between variable and value\n",
        "\n",
        "y = x / 60\n",
        "y"
      ]
    },
    {
      "cell_type": "markdown",
      "metadata": {
        "id": "X4MKWVeRyhrv"
      },
      "source": [
        "<p>Nếu lưu một giá trị vào biến hiện có, giá trị mới sẽ được ghi đè lên giá trị trước đó:</p>\n"
      ]
    },
    {
      "cell_type": "code",
      "execution_count": null,
      "metadata": {
        "id": "ahHWi27Vyhrv"
      },
      "outputs": [],
      "source": [
        "# Overwrite variable with new value\n",
        "\n",
        "x = x / 60\n",
        "x"
      ]
    },
    {
      "cell_type": "markdown",
      "metadata": {
        "id": "R3uPBJLOyhrv"
      },
      "source": [
        "<p>Một phương pháp hay là sử dụng tên biến có ý nghĩa để bạn và những người khác có thể đọc và hiểu code dễ dàng hơn:</p>\n"
      ]
    },
    {
      "cell_type": "code",
      "execution_count": 29,
      "metadata": {
        "id": "i2Jpt7BByhrv"
      },
      "outputs": [
        {
          "data": {
            "text/plain": [
              "142"
            ]
          },
          "execution_count": 29,
          "metadata": {},
          "output_type": "execute_result"
        }
      ],
      "source": [
        "# Name the variables meaningfully\n",
        "\n",
        "total_min = 43 + 42 + 57 # Total length of albums in minutes\n",
        "total_min"
      ]
    },
    {
      "cell_type": "code",
      "execution_count": 30,
      "metadata": {
        "id": "eT6ZBqcEyhrv"
      },
      "outputs": [
        {
          "data": {
            "text/plain": [
              "2.3666666666666667"
            ]
          },
          "execution_count": 30,
          "metadata": {},
          "output_type": "execute_result"
        }
      ],
      "source": [
        "# Name the variables meaningfully\n",
        "\n",
        "total_hours = total_min / 60 # Total length of albums in hours\n",
        "total_hours"
      ]
    },
    {
      "cell_type": "markdown",
      "metadata": {
        "id": "8e-xpPEcyhrw"
      },
      "source": [
        "<p>Trong các ô ở trên, chúng ta đã thêm độ dài của ba album tính bằng phút và lưu trữ nó trong <code>total_min</code>. Sau đó, chia nó cho 60 để tính tổng độ dài<code>total_hours</code>theo giờ. Bạn cũng có thể thực hiện tất cả cùng một lúc trong một biểu thức, miễn là bạn sử dụng dấu ngoặc đơn để thêm độ dài album trước khi chia, như được hiển thị bên dưới.</p>\n"
      ]
    },
    {
      "cell_type": "code",
      "execution_count": null,
      "metadata": {
        "id": "RVX7djbJyhrw"
      },
      "outputs": [],
      "source": [
        "# Complicate expression\n",
        "\n",
        "total_hours = (43 + 42 + 57) / 60  # Total hours in a single expression\n",
        "total_hours"
      ]
    },
    {
      "cell_type": "markdown",
      "metadata": {
        "id": "88i7exzIyhrw"
      },
      "source": [
        "<p>Nếu bạn muốn có tổng số giờ là một số nguyên, bạn có thể thay thế phép chia dấu phẩy động bằng phép chia số nguyên (tức là <code>//</code>).</p>\n"
      ]
    },
    {
      "cell_type": "markdown",
      "metadata": {
        "id": "kmISeCUmyhrw"
      },
      "source": [
        "<h3 id=\"exer_exp_var\">Exercise: Biểu thức và Biến trong Python</h3>\n"
      ]
    },
    {
      "cell_type": "markdown",
      "metadata": {
        "id": "1CYnHpODyhrw"
      },
      "source": [
        "<p>Giá trị của <code>x</code> là gì trong <code>x = 3 + 2 * 2</code>?</p>\n"
      ]
    },
    {
      "cell_type": "code",
      "execution_count": 32,
      "metadata": {
        "id": "7L706DWhyhrw"
      },
      "outputs": [
        {
          "data": {
            "text/plain": [
              "7"
            ]
          },
          "execution_count": 32,
          "metadata": {},
          "output_type": "execute_result"
        }
      ],
      "source": [
        "# Write your code below. Don't forget to press Shift+Enter to execute the cell\n",
        "x = 3 + 2 * 2\n",
        "x"
      ]
    },
    {
      "cell_type": "markdown",
      "metadata": {
        "id": "QyUWWHRCyhrw"
      },
      "source": [
        "<details><summary>Bấm vào đây để xem đáp án</summary>\n",
        "\n",
        "```python\n",
        "7\n",
        "\n",
        "```\n",
        "\n",
        "</details>\n"
      ]
    },
    {
      "cell_type": "markdown",
      "metadata": {
        "id": "wU8t3azfyhrx"
      },
      "source": [
        "<p>Giá trị của <code>y</code> là gì trong <code>y = (3 + 2) * 2</code>?</p>\n"
      ]
    },
    {
      "cell_type": "code",
      "execution_count": 33,
      "metadata": {
        "id": "dVQb9mDcyhrx"
      },
      "outputs": [
        {
          "data": {
            "text/plain": [
              "10"
            ]
          },
          "execution_count": 33,
          "metadata": {},
          "output_type": "execute_result"
        }
      ],
      "source": [
        "# Write your code below. Don't forget to press Shift+Enter to execute the cell\n",
        "y =(3+2)*2\n",
        "y"
      ]
    },
    {
      "cell_type": "code",
      "execution_count": null,
      "metadata": {
        "id": "eyYnQ5-dKgIz"
      },
      "outputs": [],
      "source": []
    },
    {
      "cell_type": "markdown",
      "metadata": {
        "id": "xafRAObkyhrx"
      },
      "source": [
        "<details><summary>Bấm vào đây để xem đáp án</summary>\n",
        "\n",
        "```python\n",
        "10\n",
        "\n",
        "```\n",
        "\n",
        "</details>\n"
      ]
    },
    {
      "cell_type": "markdown",
      "metadata": {
        "id": "Nyopl9oKyhrx"
      },
      "source": [
        "<p>Giá trị của<code>z</code> là gì trong <code>z = x + y</code>?</p>\n"
      ]
    },
    {
      "cell_type": "code",
      "execution_count": 34,
      "metadata": {
        "id": "ZNQoLbzVyhrx"
      },
      "outputs": [
        {
          "data": {
            "text/plain": [
              "17"
            ]
          },
          "execution_count": 34,
          "metadata": {},
          "output_type": "execute_result"
        }
      ],
      "source": [
        "# Write your code below. Don't forget to press Shift+Enter to execute the cell\n",
        "z = x + y\n",
        "z"
      ]
    },
    {
      "cell_type": "markdown",
      "metadata": {
        "id": "6rXwa7AX7wVk"
      },
      "source": []
    },
    {
      "cell_type": "markdown",
      "metadata": {
        "id": "5evSvQTdyhrx"
      },
      "source": [
        "<details><summary>Bấm vào đây để xem đáp án</summary>\n",
        "\n",
        "```python\n",
        "17\n",
        "\n",
        "```\n",
        "\n",
        "</details>\n"
      ]
    },
    {
      "cell_type": "markdown",
      "metadata": {
        "id": "pnaI9lmbyhry"
      },
      "source": [
        "<hr>\n",
        "<p>Nguồn: IBM\n",
        "<hr>\n",
        "\n"
      ]
    }
  ],
  "metadata": {
    "colab": {
      "collapsed_sections": [
        "UOG49X9Wyhry"
      ],
      "provenance": []
    },
    "kernelspec": {
      "display_name": "Python 3",
      "language": "python",
      "name": "python3"
    },
    "language_info": {
      "codemirror_mode": {
        "name": "ipython",
        "version": 3
      },
      "file_extension": ".py",
      "mimetype": "text/x-python",
      "name": "python",
      "nbconvert_exporter": "python",
      "pygments_lexer": "ipython3",
      "version": "3.10.14"
    }
  },
  "nbformat": 4,
  "nbformat_minor": 0
}
