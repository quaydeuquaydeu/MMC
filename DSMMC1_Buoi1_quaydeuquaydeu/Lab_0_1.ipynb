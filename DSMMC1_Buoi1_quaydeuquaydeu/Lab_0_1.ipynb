{
  "cells": [
    {
      "cell_type": "markdown",
      "metadata": {
        "colab_type": "text",
        "id": "view-in-github"
      },
      "source": [
        "<a href=\"https://colab.research.google.com/github/quaydeuquaydeu/MMC_DS24/blob/quaydeu01/Lab_0_1.ipynb\" target=\"_parent\"><img src=\"https://colab.research.google.com/assets/colab-badge.svg\" alt=\"Open In Colab\"/></a>"
      ]
    },
    {
      "cell_type": "markdown",
      "metadata": {
        "id": "Y89Dq7akEwfg"
      },
      "source": [
        "Bài tập 1"
      ]
    },
    {
      "cell_type": "code",
      "execution_count": 1,
      "metadata": {
        "colab": {
          "base_uri": "https://localhost:8080/"
        },
        "id": "F_ezqZiuEhXF",
        "outputId": "98dceca8-930c-4b28-b90b-0c3f5c134e81"
      },
      "outputs": [
        {
          "data": {
            "text/plain": [
              "2"
            ]
          },
          "execution_count": 1,
          "metadata": {},
          "output_type": "execute_result"
        }
      ],
      "source": [
        "1+1"
      ]
    },
    {
      "cell_type": "code",
      "execution_count": 1,
      "metadata": {},
      "outputs": [
        {
          "name": "stdout",
          "output_type": "stream",
          "text": [
            "Hello QuaydeuQuaydeu!\n"
          ]
        }
      ],
      "source": [
        "print(\"Hello QuaydeuQuaydeu!\")"
      ]
    },
    {
      "cell_type": "markdown",
      "metadata": {
        "id": "er5yzAVvE7fF"
      },
      "source": [
        "Bài tập 2"
      ]
    },
    {
      "cell_type": "code",
      "execution_count": null,
      "metadata": {
        "id": "lC61p9HqErFY"
      },
      "outputs": [],
      "source": [
        "\n"
      ]
    },
    {
      "cell_type": "code",
      "execution_count": null,
      "metadata": {
        "id": "XmcqIQHAE6K-"
      },
      "outputs": [],
      "source": []
    },
    {
      "cell_type": "markdown",
      "metadata": {
        "id": "ovy-PFFTFUzH"
      },
      "source": [
        "Bài tập 3\n",
        ">> My title\n"
      ]
    },
    {
      "cell_type": "code",
      "execution_count": null,
      "metadata": {
        "id": "wOSUzsAzE2Wt"
      },
      "outputs": [],
      "source": []
    },
    {
      "cell_type": "markdown",
      "metadata": {
        "id": "2GDQxkX6G7sV"
      },
      "source": [
        "Bài tập 4 - Đổi tên Notebook\n",
        "1. Trong danh sách notebook ở bảng điều khiển bên trái, nhấp vào File ở trên cùng để mở rộng danh sách tùy chọn.\n",
        "2. Nhấp vào Rename Notebook... để đổi tên mới cho notebook ví dụ My_Notebook.ipynb.\n"
      ]
    },
    {
      "cell_type": "markdown",
      "metadata": {
        "id": "qpAYH1mwHOnh"
      },
      "source": [
        "Bài tập  5 - Lưu và tải xuống Jupyter Notebook vào máy tính của bạn\n",
        "Đôi khi bạn có thể muốn tải notebook về máy tính của mình.\n",
        "* Để lưu, nhấp vào nút Save Notebook hoặc nút Save Notebook as trong menu File.\n",
        "* Để tải xuống notebook, nhấp vào File và cuộn xuống Download để tải xuống notebook. Bạn cũng có thể nhấp chuột phải vào notebook trong file browser và nhấp vào Download\n"
      ]
    }
  ],
  "metadata": {
    "colab": {
      "authorship_tag": "ABX9TyOKBNo0srCmllLLTCnAPMKO",
      "include_colab_link": true,
      "provenance": []
    },
    "kernelspec": {
      "display_name": "Python 3",
      "name": "python3"
    },
    "language_info": {
      "codemirror_mode": {
        "name": "ipython",
        "version": 3
      },
      "file_extension": ".py",
      "mimetype": "text/x-python",
      "name": "python",
      "nbconvert_exporter": "python",
      "pygments_lexer": "ipython3",
      "version": "3.10.14"
    }
  },
  "nbformat": 4,
  "nbformat_minor": 0
}
